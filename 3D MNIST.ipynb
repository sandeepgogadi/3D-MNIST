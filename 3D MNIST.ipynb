{
 "cells": [
  {
   "cell_type": "code",
   "execution_count": 1,
   "metadata": {},
   "outputs": [
    {
     "name": "stdout",
     "output_type": "stream",
     "text": [
      "--2018-10-11 19:03:41--  https://archive.org/download/3dMnist/3d-mnist.zip\n",
      "Resolving archive.org (archive.org)... 207.241.224.2\n",
      "Connecting to archive.org (archive.org)|207.241.224.2|:443... connected.\n",
      "HTTP request sent, awaiting response... 302 Found\n",
      "Location: https://ia601509.us.archive.org/29/items/3dMnist/3d-mnist.zip [following]\n",
      "--2018-10-11 19:03:43--  https://ia601509.us.archive.org/29/items/3dMnist/3d-mnist.zip\n",
      "Resolving ia601509.us.archive.org (ia601509.us.archive.org)... 207.241.227.119\n",
      "Connecting to ia601509.us.archive.org (ia601509.us.archive.org)|207.241.227.119|:443... connected.\n",
      "HTTP request sent, awaiting response... 200 OK\n",
      "Length: 161420550 (154M) [application/zip]\n",
      "Saving to: ‘3d-mnist.zip’\n",
      "\n",
      "3d-mnist.zip        100%[===================>] 153.94M  3.62MB/s    in 38s     \n",
      "\n",
      "2018-10-11 19:04:23 (4.10 MB/s) - ‘3d-mnist.zip’ saved [161420550/161420550]\n",
      "\n"
     ]
    }
   ],
   "source": [
    "!wget https://archive.org/download/3dMnist/3d-mnist.zip"
   ]
  },
  {
   "cell_type": "code",
   "execution_count": 2,
   "metadata": {},
   "outputs": [
    {
     "name": "stdout",
     "output_type": "stream",
     "text": [
      "3D MNIST.ipynb  \u001b[0m\u001b[01;31m3d-mnist.zip\u001b[0m\r\n"
     ]
    }
   ],
   "source": [
    "ls"
   ]
  },
  {
   "cell_type": "code",
   "execution_count": 3,
   "metadata": {},
   "outputs": [
    {
     "name": "stdout",
     "output_type": "stream",
     "text": [
      "Archive:  3d-mnist.zip\n",
      "  inflating: full_dataset_vectors.h5  \n",
      "  inflating: plot3D.py               \n",
      "  inflating: test_point_clouds.h5    \n",
      "  inflating: train_point_clouds.h5   \n",
      "  inflating: voxelgrid.py            \n"
     ]
    }
   ],
   "source": [
    "!unzip 3d-mnist.zip"
   ]
  },
  {
   "cell_type": "code",
   "execution_count": 4,
   "metadata": {},
   "outputs": [
    {
     "name": "stdout",
     "output_type": "stream",
     "text": [
      "3D MNIST.ipynb  full_dataset_vectors.h5  test_point_clouds.h5   voxelgrid.py\r\n",
      "\u001b[0m\u001b[01;31m3d-mnist.zip\u001b[0m    plot3D.py                train_point_clouds.h5\r\n"
     ]
    }
   ],
   "source": [
    "ls"
   ]
  },
  {
   "cell_type": "code",
   "execution_count": 5,
   "metadata": {},
   "outputs": [],
   "source": [
    "import h5py\n",
    "import numpy as np\n",
    "\n",
    "with h5py.File('full_dataset_vectors.h5', \"r\") as f:\n",
    "    X_train = f['X_train'][:]\n",
    "    y_train = f['y_train'][:]\n",
    "    X_test = f['X_test'][:]\n",
    "    y_test = f['y_test'][:]    "
   ]
  },
  {
   "cell_type": "code",
   "execution_count": 6,
   "metadata": {},
   "outputs": [
    {
     "name": "stdout",
     "output_type": "stream",
     "text": [
      "10000 10000 (10000, 4096) (10000,)\n",
      "2000 2000 (2000, 4096) (2000,)\n"
     ]
    }
   ],
   "source": [
    "print(len(X_train), len(y_train), X_train.shape, y_train.shape)\n",
    "print(len(X_test), len(y_test), X_test.shape, y_test.shape)"
   ]
  },
  {
   "cell_type": "markdown",
   "metadata": {},
   "source": [
    "### Logistic Regression"
   ]
  },
  {
   "cell_type": "code",
   "execution_count": 7,
   "metadata": {},
   "outputs": [
    {
     "name": "stdout",
     "output_type": "stream",
     "text": [
      "Accuracy:  0.582\n"
     ]
    }
   ],
   "source": [
    "from sklearn.linear_model import LogisticRegression\n",
    "\n",
    "reg = LogisticRegression()\n",
    "reg.fit(X_train,y_train)\n",
    "print(\"Accuracy: \", reg.score(X_test,y_test))"
   ]
  },
  {
   "cell_type": "markdown",
   "metadata": {},
   "source": [
    "### Decision Tree Classifier"
   ]
  },
  {
   "cell_type": "code",
   "execution_count": 8,
   "metadata": {},
   "outputs": [
    {
     "name": "stdout",
     "output_type": "stream",
     "text": [
      "Accuracy:  0.4935\n"
     ]
    }
   ],
   "source": [
    "from sklearn.tree import DecisionTreeClassifier\n",
    "\n",
    "dt = DecisionTreeClassifier()\n",
    "dt.fit(X_train,y_train)\n",
    "print(\"Accuracy: \", dt.score(X_test,y_test))"
   ]
  },
  {
   "cell_type": "markdown",
   "metadata": {},
   "source": [
    "### Linear Support Vector Classifier"
   ]
  },
  {
   "cell_type": "code",
   "execution_count": 9,
   "metadata": {},
   "outputs": [
    {
     "name": "stdout",
     "output_type": "stream",
     "text": [
      "Accuracy:  0.558\n"
     ]
    }
   ],
   "source": [
    "from sklearn.svm import LinearSVC\n",
    "\n",
    "svm = LinearSVC()\n",
    "svm.fit(X_train,y_train)\n",
    "print(\"Accuracy: \", svm.score(X_test,y_test))"
   ]
  },
  {
   "cell_type": "markdown",
   "metadata": {},
   "source": [
    "### KNeighbors Classifier"
   ]
  },
  {
   "cell_type": "code",
   "execution_count": 10,
   "metadata": {},
   "outputs": [
    {
     "name": "stdout",
     "output_type": "stream",
     "text": [
      "Accuracy:  0.5905\n"
     ]
    }
   ],
   "source": [
    "from sklearn.neighbors import KNeighborsClassifier\n",
    "\n",
    "knn = KNeighborsClassifier()\n",
    "knn.fit(X_train,y_train)\n",
    "print(\"Accuracy: \", knn.score(X_test,y_test))"
   ]
  },
  {
   "cell_type": "markdown",
   "metadata": {},
   "source": [
    "### Random Forest Classifier"
   ]
  },
  {
   "cell_type": "code",
   "execution_count": 11,
   "metadata": {},
   "outputs": [
    {
     "name": "stderr",
     "output_type": "stream",
     "text": [
      "/home/sandeepgogadi/anaconda3/envs/dl/lib/python3.6/site-packages/sklearn/ensemble/weight_boosting.py:29: DeprecationWarning: numpy.core.umath_tests is an internal NumPy module and should not be imported. It will be removed in a future NumPy release.\n",
      "  from numpy.core.umath_tests import inner1d\n"
     ]
    },
    {
     "name": "stdout",
     "output_type": "stream",
     "text": [
      "Accuracy:  0.6775\n"
     ]
    }
   ],
   "source": [
    "from sklearn.ensemble import RandomForestClassifier\n",
    "\n",
    "rf = RandomForestClassifier(n_estimators=500)\n",
    "rf.fit(X_train,y_train)\n",
    "print(\"Accuracy: \", rf.score(X_test,y_test))"
   ]
  },
  {
   "cell_type": "markdown",
   "metadata": {},
   "source": [
    "### 2D CNN"
   ]
  },
  {
   "cell_type": "code",
   "execution_count": 12,
   "metadata": {},
   "outputs": [
    {
     "name": "stderr",
     "output_type": "stream",
     "text": [
      "Using TensorFlow backend.\n",
      "/home/sandeepgogadi/anaconda3/envs/dl/lib/python3.6/site-packages/keras_preprocessing/image.py:1183: UserWarning: Expected input to be images (as Numpy array) following the data format convention \"channels_last\" (channels on axis 3), i.e. expected either 1, 3 or 4 channels on axis 3. However, it was passed an array with shape (8500, 16, 16, 16) (16 channels).\n",
      "  ' channels).')\n",
      "/home/sandeepgogadi/anaconda3/envs/dl/lib/python3.6/site-packages/keras_preprocessing/image.py:1404: UserWarning: NumpyArrayIterator is set to use the data format convention \"channels_last\" (channels on axis 3), i.e. expected either 1, 3 or 4 channels on axis 3. However, it was passed an array with shape (8500, 16, 16, 16) (16 channels).\n",
      "  str(self.x.shape[channels_axis]) + ' channels).')\n"
     ]
    },
    {
     "name": "stdout",
     "output_type": "stream",
     "text": [
      "Training...\n",
      "Epoch 1/30\n",
      " - 5s - loss: 1.9498 - acc: 0.3127 - val_loss: 1.2918 - val_acc: 0.5447\n",
      "Epoch 2/30\n",
      " - 4s - loss: 1.3972 - acc: 0.5138 - val_loss: 1.2778 - val_acc: 0.5487\n",
      "Epoch 3/30\n",
      " - 4s - loss: 1.2738 - acc: 0.5598 - val_loss: 1.1348 - val_acc: 0.5987\n",
      "Epoch 4/30\n",
      " - 4s - loss: 1.2055 - acc: 0.5785 - val_loss: 1.0290 - val_acc: 0.6333\n",
      "Epoch 5/30\n",
      " - 4s - loss: 1.1684 - acc: 0.5877 - val_loss: 1.0116 - val_acc: 0.6280\n",
      "Epoch 6/30\n",
      " - 4s - loss: 1.1251 - acc: 0.6038 - val_loss: 1.2305 - val_acc: 0.5847\n",
      "Epoch 7/30\n",
      " - 4s - loss: 1.0986 - acc: 0.6172 - val_loss: 0.9733 - val_acc: 0.6547\n",
      "Epoch 8/30\n",
      " - 4s - loss: 1.0763 - acc: 0.6192 - val_loss: 1.0470 - val_acc: 0.6453\n",
      "Epoch 9/30\n",
      " - 4s - loss: 1.0466 - acc: 0.6329 - val_loss: 0.9640 - val_acc: 0.6533\n",
      "Epoch 10/30\n",
      " - 5s - loss: 1.0287 - acc: 0.6363 - val_loss: 0.9589 - val_acc: 0.6620\n",
      "Epoch 11/30\n",
      " - 4s - loss: 1.0171 - acc: 0.6396 - val_loss: 0.9575 - val_acc: 0.6587\n",
      "Epoch 12/30\n",
      " - 4s - loss: 1.0080 - acc: 0.6399 - val_loss: 0.9699 - val_acc: 0.6487\n",
      "Epoch 13/30\n",
      " - 4s - loss: 0.9975 - acc: 0.6452 - val_loss: 0.9077 - val_acc: 0.6813\n",
      "Epoch 14/30\n",
      " - 4s - loss: 0.9787 - acc: 0.6572 - val_loss: 0.9500 - val_acc: 0.6680\n",
      "Epoch 15/30\n",
      " - 4s - loss: 0.9726 - acc: 0.6566 - val_loss: 0.9249 - val_acc: 0.6693\n",
      "Epoch 16/30\n",
      " - 4s - loss: 0.9605 - acc: 0.6656 - val_loss: 0.9238 - val_acc: 0.6847\n",
      "Epoch 17/30\n",
      " - 4s - loss: 0.9504 - acc: 0.6664 - val_loss: 0.9865 - val_acc: 0.6507\n",
      "Epoch 18/30\n",
      " - 4s - loss: 0.9445 - acc: 0.6691 - val_loss: 0.9709 - val_acc: 0.6533\n",
      "Epoch 19/30\n",
      " - 4s - loss: 0.9282 - acc: 0.6778 - val_loss: 0.9219 - val_acc: 0.6713\n",
      "\n",
      "Epoch 00019: ReduceLROnPlateau reducing learning rate to 0.0005000000237487257.\n",
      "Epoch 20/30\n",
      " - 4s - loss: 0.8769 - acc: 0.6969 - val_loss: 0.8751 - val_acc: 0.6940\n",
      "Epoch 21/30\n",
      " - 4s - loss: 0.8568 - acc: 0.6956 - val_loss: 0.8804 - val_acc: 0.6913\n",
      "Epoch 22/30\n",
      " - 4s - loss: 0.8386 - acc: 0.7016 - val_loss: 0.9135 - val_acc: 0.6907\n",
      "Epoch 23/30\n",
      " - 4s - loss: 0.8123 - acc: 0.7186 - val_loss: 0.8442 - val_acc: 0.6973\n",
      "Epoch 24/30\n",
      " - 4s - loss: 0.8160 - acc: 0.7171 - val_loss: 0.8847 - val_acc: 0.6820\n",
      "Epoch 25/30\n",
      " - 4s - loss: 0.8108 - acc: 0.7176 - val_loss: 0.8367 - val_acc: 0.7060\n",
      "Epoch 26/30\n",
      " - 4s - loss: 0.7878 - acc: 0.7237 - val_loss: 0.8700 - val_acc: 0.6953\n",
      "Epoch 27/30\n",
      " - 4s - loss: 0.7926 - acc: 0.7255 - val_loss: 0.8481 - val_acc: 0.7007\n",
      "Epoch 28/30\n",
      " - 4s - loss: 0.7677 - acc: 0.7327 - val_loss: 0.9037 - val_acc: 0.7000\n",
      "\n",
      "Epoch 00028: ReduceLROnPlateau reducing learning rate to 0.0002500000118743628.\n",
      "Epoch 29/30\n",
      " - 4s - loss: 0.7489 - acc: 0.7371 - val_loss: 0.8472 - val_acc: 0.7000\n",
      "Epoch 30/30\n",
      " - 5s - loss: 0.7419 - acc: 0.7408 - val_loss: 0.8315 - val_acc: 0.7100\n",
      "0.7125\n"
     ]
    },
    {
     "data": {
      "image/png": "[encoded data removed]",
      "text/plain": [
       "<Figure size 1440x1440 with 2 Axes>"
      ]
     },
     "metadata": {},
     "output_type": "display_data"
    },
    {
     "name": "stdout",
     "output_type": "stream",
     "text": [
      "Model Saved.\n"
     ]
    }
   ],
   "source": [
    "%matplotlib inline\n",
    "\n",
    "from __future__ import division, print_function, absolute_import\n",
    "\n",
    "from keras.models import Sequential, model_from_json\n",
    "from keras.layers import Dense, Dropout, Flatten, Conv2D, MaxPool2D, BatchNormalization\n",
    "from keras.optimizers import RMSprop\n",
    "from keras.preprocessing.image import ImageDataGenerator\n",
    "from keras.utils.np_utils import to_categorical\n",
    "from keras.callbacks import ReduceLROnPlateau, TensorBoard\n",
    "\n",
    "import h5py\n",
    "import pandas as pd\n",
    "import numpy as np\n",
    "import matplotlib.pyplot as plt\n",
    "import seaborn as sns\n",
    "sns.set_style('white')\n",
    "\n",
    "from sklearn.metrics import confusion_matrix, accuracy_score\n",
    "from sklearn.model_selection import train_test_split\n",
    "\n",
    "# Hyper Parameter\n",
    "batch_size = 86\n",
    "epochs = 30\n",
    "\n",
    "# Set up TensorBoard\n",
    "tensorboard = TensorBoard(batch_size=batch_size)\n",
    "\n",
    "with h5py.File(\"full_dataset_vectors.h5\", 'r') as h5:\n",
    "    X_train, y_train = h5[\"X_train\"][:], h5[\"y_train\"][:]\n",
    "    X_test, y_test = h5[\"X_test\"][:], h5[\"y_test\"][:]\n",
    "\n",
    "\n",
    "\n",
    "y_train = to_categorical(y_train, num_classes=10)\n",
    "# y_test = to_categorical(y_test, num_classes=10)\n",
    "\n",
    "X_train = X_train.reshape(-1, 16, 16, 16)\n",
    "X_test  = X_test.reshape(-1, 16, 16, 16)\n",
    "\n",
    "X_train, X_val, y_train, y_val = train_test_split(X_train, y_train, test_size=0.15, random_state=42)\n",
    "\n",
    "# Conv2D layer\n",
    "def Conv(filters=16, kernel_size=(3,3), activation='relu', input_shape=None):\n",
    "    if input_shape:\n",
    "        return Conv2D(filters=filters, kernel_size=kernel_size, padding='Same', activation=activation, input_shape=input_shape)\n",
    "    else:\n",
    "        return Conv2D(filters=filters, kernel_size=kernel_size, padding='Same', activation=activation)\n",
    "\n",
    "# Define Model\n",
    "def CNN(input_dim, num_classes):\n",
    "    model = Sequential()\n",
    "\n",
    "    model.add(Conv(8, (3,3), input_shape=input_dim))\n",
    "    model.add(Conv(16, (3,3)))\n",
    "    # model.add(BatchNormalization())\n",
    "    model.add(MaxPool2D(pool_size=(2,2)))\n",
    "    model.add(Dropout(0.25))\n",
    "\n",
    "    model.add(Conv(32, (3,3)))\n",
    "    model.add(Conv(64, (3,3)))\n",
    "    model.add(BatchNormalization())\n",
    "    model.add(MaxPool2D())\n",
    "    model.add(Dropout(0.25))\n",
    "\n",
    "    model.add(Flatten())\n",
    "\n",
    "    model.add(Dense(4096, activation='relu'))\n",
    "    model.add(Dropout(0.5))\n",
    "\n",
    "    model.add(Dense(1024, activation='relu'))\n",
    "    model.add(Dropout(0.5))\n",
    "\n",
    "    model.add(Dense(num_classes, activation='softmax'))\n",
    "\n",
    "    return model\n",
    "\n",
    "# Train Model\n",
    "def train(optimizer, scheduler, gen):\n",
    "    global model\n",
    "\n",
    "    print(\"Training...\")\n",
    "    model.compile(optimizer = 'adam' , loss = \"categorical_crossentropy\", metrics=[\"accuracy\"])\n",
    "\n",
    "    model.fit_generator(gen.flow(X_train, y_train, batch_size=batch_size),\n",
    "                    epochs=epochs, validation_data=(X_val, y_val),\n",
    "                    verbose=2, steps_per_epoch=X_train.shape[0]//batch_size,\n",
    "                    callbacks=[scheduler, tensorboard])\n",
    "def evaluate():\n",
    "    global model\n",
    "\n",
    "    pred = model.predict(X_test)\n",
    "    pred = np.argmax(pred, axis=1)\n",
    "\n",
    "    print(accuracy_score(pred,y_test))\n",
    "    # Heat Map\n",
    "    array = confusion_matrix(y_test, pred)\n",
    "    cm = pd.DataFrame(array, index = range(10), columns = range(10))\n",
    "    plt.figure(figsize=(20,20))\n",
    "    sns.heatmap(cm, annot=True)\n",
    "    plt.show()\n",
    "\n",
    "def save_model():\n",
    "    global model\n",
    "\n",
    "    model_json = model.to_json()\n",
    "    with open('model_2D.json', 'w') as f:\n",
    "        f.write(model_json)\n",
    "\n",
    "    model.save_weights('model_2D.h5')\n",
    "\n",
    "    print('Model Saved.')\n",
    "\n",
    "def load_model():\n",
    "    f = open('model_2D.json', 'r')\n",
    "    model_json = f.read()\n",
    "    f.close()\n",
    "\n",
    "    loaded_model = model_from_json(model_json)\n",
    "    loaded_model.load_weights('model_2D.h5')\n",
    "\n",
    "    print(\"Model Loaded.\")\n",
    "    return loaded_model\n",
    "\n",
    "if __name__ == '__main__':\n",
    "\n",
    "    optimizer = RMSprop(lr=0.001, rho=0.9, epsilon=1e-08, decay=0.0)\n",
    "    scheduler = ReduceLROnPlateau(monitor='val_acc', patience=3, verbose=1, factor=0.5, min_lr=1e-5)\n",
    "\n",
    "    model = CNN((16,16,16), 10)\n",
    "\n",
    "    gen = ImageDataGenerator(rotation_range=10, zoom_range = 0.1, width_shift_range=0.1, height_shift_range=0.1)\n",
    "    gen.fit(X_train)\n",
    "\n",
    "    train(optimizer, scheduler, gen)\n",
    "    evaluate()\n",
    "    save_model()"
   ]
  },
  {
   "cell_type": "markdown",
   "metadata": {},
   "source": [
    "### 3D CNN"
   ]
  },
  {
   "cell_type": "code",
   "execution_count": 13,
   "metadata": {},
   "outputs": [
    {
     "name": "stdout",
     "output_type": "stream",
     "text": [
      "0\n",
      "1000\n",
      "2000\n",
      "3000\n",
      "4000\n",
      "5000\n",
      "6000\n",
      "7000\n",
      "8000\n",
      "9000\n",
      "0\n",
      "1000\n",
      "Training...\n",
      "Train on 8500 samples, validate on 1500 samples\n",
      "Epoch 1/30\n",
      " - 11s - loss: 3.0609 - acc: 0.1512 - val_loss: 5.2800 - val_acc: 0.1113\n",
      "Epoch 2/30\n",
      " - 10s - loss: 1.5903 - acc: 0.4475 - val_loss: 2.1095 - val_acc: 0.4207\n",
      "Epoch 3/30\n",
      " - 10s - loss: 1.2178 - acc: 0.5773 - val_loss: 1.8678 - val_acc: 0.4613\n",
      "Epoch 4/30\n",
      " - 10s - loss: 1.0962 - acc: 0.6182 - val_loss: 1.0660 - val_acc: 0.6227\n",
      "Epoch 5/30\n",
      " - 10s - loss: 1.0134 - acc: 0.6442 - val_loss: 1.0814 - val_acc: 0.6213\n",
      "Epoch 6/30\n",
      " - 10s - loss: 0.9351 - acc: 0.6702 - val_loss: 0.9996 - val_acc: 0.6693\n",
      "Epoch 7/30\n",
      " - 10s - loss: 0.8821 - acc: 0.6931 - val_loss: 0.8671 - val_acc: 0.6947\n",
      "Epoch 8/30\n",
      " - 10s - loss: 0.8083 - acc: 0.7160 - val_loss: 0.9180 - val_acc: 0.6887\n",
      "Epoch 9/30\n",
      " - 10s - loss: 0.7377 - acc: 0.7424 - val_loss: 0.8913 - val_acc: 0.6993\n",
      "Epoch 10/30\n",
      " - 10s - loss: 0.6426 - acc: 0.7809 - val_loss: 0.8335 - val_acc: 0.7187\n",
      "Epoch 11/30\n",
      " - 10s - loss: 0.5891 - acc: 0.7978 - val_loss: 0.8857 - val_acc: 0.6920\n",
      "Epoch 12/30\n",
      " - 10s - loss: 0.5312 - acc: 0.8147 - val_loss: 0.8588 - val_acc: 0.7147\n",
      "Epoch 13/30\n",
      " - 10s - loss: 0.4617 - acc: 0.8419 - val_loss: 0.9017 - val_acc: 0.7287\n",
      "Epoch 14/30\n",
      " - 10s - loss: 0.3975 - acc: 0.8625 - val_loss: 0.9225 - val_acc: 0.7287\n",
      "Epoch 15/30\n",
      " - 10s - loss: 0.3643 - acc: 0.8766 - val_loss: 0.9454 - val_acc: 0.7200\n",
      "Epoch 16/30\n",
      " - 10s - loss: 0.3088 - acc: 0.8999 - val_loss: 0.9651 - val_acc: 0.7100\n",
      "\n",
      "Epoch 00016: ReduceLROnPlateau reducing learning rate to 0.0005000000237487257.\n",
      "Epoch 17/30\n",
      " - 10s - loss: 0.1792 - acc: 0.9382 - val_loss: 1.0094 - val_acc: 0.7360\n",
      "Epoch 18/30\n",
      " - 10s - loss: 0.1347 - acc: 0.9579 - val_loss: 1.0294 - val_acc: 0.7540\n",
      "Epoch 19/30\n",
      " - 10s - loss: 0.1011 - acc: 0.9664 - val_loss: 1.0994 - val_acc: 0.7467\n",
      "Epoch 20/30\n",
      " - 10s - loss: 0.0925 - acc: 0.9712 - val_loss: 1.0801 - val_acc: 0.7413\n",
      "Epoch 21/30\n",
      " - 10s - loss: 0.0745 - acc: 0.9764 - val_loss: 1.1934 - val_acc: 0.7480\n",
      "\n",
      "Epoch 00021: ReduceLROnPlateau reducing learning rate to 0.0002500000118743628.\n",
      "Epoch 22/30\n",
      " - 10s - loss: 0.0624 - acc: 0.9794 - val_loss: 1.1075 - val_acc: 0.7487\n",
      "Epoch 23/30\n",
      " - 10s - loss: 0.0428 - acc: 0.9860 - val_loss: 1.1747 - val_acc: 0.7427\n",
      "Epoch 24/30\n",
      " - 10s - loss: 0.0487 - acc: 0.9838 - val_loss: 1.1275 - val_acc: 0.7467\n",
      "\n",
      "Epoch 00024: ReduceLROnPlateau reducing learning rate to 0.0001250000059371814.\n",
      "Epoch 25/30\n",
      " - 10s - loss: 0.0376 - acc: 0.9879 - val_loss: 1.1435 - val_acc: 0.7473\n",
      "Epoch 26/30\n",
      " - 10s - loss: 0.0292 - acc: 0.9915 - val_loss: 1.1195 - val_acc: 0.7447\n",
      "Epoch 27/30\n",
      " - 10s - loss: 0.0292 - acc: 0.9918 - val_loss: 1.1789 - val_acc: 0.7460\n",
      "\n",
      "Epoch 00027: ReduceLROnPlateau reducing learning rate to 6.25000029685907e-05.\n",
      "Epoch 28/30\n",
      " - 10s - loss: 0.0222 - acc: 0.9933 - val_loss: 1.1897 - val_acc: 0.7473\n",
      "Epoch 29/30\n",
      " - 10s - loss: 0.0218 - acc: 0.9944 - val_loss: 1.1836 - val_acc: 0.7447\n",
      "Epoch 30/30\n",
      " - 10s - loss: 0.0212 - acc: 0.9940 - val_loss: 1.1970 - val_acc: 0.7487\n",
      "\n",
      "Epoch 00030: ReduceLROnPlateau reducing learning rate to 3.125000148429535e-05.\n",
      "0.7385\n"
     ]
    },
    {
     "data": {
      "image/png": "[encoded data removed]",
      "text/plain": [
       "<Figure size 1440x1440 with 2 Axes>"
      ]
     },
     "metadata": {},
     "output_type": "display_data"
    },
    {
     "name": "stdout",
     "output_type": "stream",
     "text": [
      "Model Saved.\n"
     ]
    }
   ],
   "source": [
    "%matplotlib inline\n",
    "\n",
    "from __future__ import division, print_function, absolute_import\n",
    "\n",
    "from keras.models import Sequential, model_from_json\n",
    "from keras.layers import Dense, Dropout, Flatten, Conv3D, MaxPool3D, BatchNormalization, Input\n",
    "from keras.optimizers import RMSprop\n",
    "from keras.preprocessing.image import ImageDataGenerator\n",
    "from keras.utils.np_utils import to_categorical\n",
    "from keras.callbacks import ReduceLROnPlateau, TensorBoard\n",
    "\n",
    "import h5py\n",
    "import pandas as pd\n",
    "import numpy as np\n",
    "import matplotlib.pyplot as plt\n",
    "import seaborn as sns\n",
    "sns.set_style('white')\n",
    "\n",
    "from sklearn.metrics import confusion_matrix, accuracy_score\n",
    "\n",
    "# Hyper Parameter\n",
    "batch_size = 86\n",
    "epochs = 30\n",
    "\n",
    "# Set up TensorBoard\n",
    "tensorboard = TensorBoard(batch_size=batch_size)\n",
    "\n",
    "with h5py.File(\"full_dataset_vectors.h5\", 'r') as h5:\n",
    "    X_train, y_train = h5[\"X_train\"][:], h5[\"y_train\"][:]\n",
    "    X_test, y_test = h5[\"X_test\"][:], h5[\"y_test\"][:]\n",
    "\n",
    "# Translate data to color\n",
    "def array_to_color(array, cmap=\"Oranges\"):\n",
    "    s_m = plt.cm.ScalarMappable(cmap=cmap)\n",
    "    return s_m.to_rgba(array)[:,:-1]\n",
    "\n",
    "def translate(x):\n",
    "    xx = np.ndarray((x.shape[0], 4096, 3))\n",
    "    for i in range(x.shape[0]):\n",
    "        xx[i] = array_to_color(x[i])\n",
    "        if i % 1000 == 0:\n",
    "            print(i)\n",
    "    # Free Memory\n",
    "    del x\n",
    "\n",
    "    return xx\n",
    "\n",
    "y_train = to_categorical(y_train, num_classes=10)\n",
    "# y_test = to_categorical(y_test, num_classes=10)\n",
    "\n",
    "X_train = translate(X_train).reshape(-1, 16, 16, 16, 3)\n",
    "X_test  = translate(X_test).reshape(-1, 16, 16, 16, 3)\n",
    "\n",
    "# Conv2D layer\n",
    "def Conv(filters=16, kernel_size=(3,3,3), activation='relu', input_shape=None):\n",
    "    if input_shape:\n",
    "        return Conv3D(filters=filters, kernel_size=kernel_size, padding='Same', activation=activation, input_shape=input_shape)\n",
    "    else:\n",
    "        return Conv3D(filters=filters, kernel_size=kernel_size, padding='Same', activation=activation)\n",
    "\n",
    "# Define Model\n",
    "def CNN(input_dim, num_classes):\n",
    "    model = Sequential()\n",
    "\n",
    "    model.add(Conv(8, (3,3,3), input_shape=input_dim))\n",
    "    model.add(Conv(16, (3,3,3)))\n",
    "    # model.add(BatchNormalization())\n",
    "    model.add(MaxPool3D())\n",
    "    # model.add(Dropout(0.25))\n",
    "\n",
    "    model.add(Conv(32, (3,3,3)))\n",
    "    model.add(Conv(64, (3,3,3)))\n",
    "    model.add(BatchNormalization())\n",
    "    model.add(MaxPool3D())\n",
    "    model.add(Dropout(0.25))\n",
    "\n",
    "    model.add(Flatten())\n",
    "\n",
    "    model.add(Dense(4096, activation='relu'))\n",
    "    model.add(Dropout(0.5))\n",
    "\n",
    "    model.add(Dense(1024, activation='relu'))\n",
    "    model.add(Dropout(0.5))\n",
    "\n",
    "    model.add(Dense(num_classes, activation='softmax'))\n",
    "\n",
    "    return model\n",
    "\n",
    "# Train Model\n",
    "def train(optimizer, scheduler):\n",
    "    global model\n",
    "\n",
    "    print(\"Training...\")\n",
    "    model.compile(optimizer = 'adam' , loss = \"categorical_crossentropy\", metrics=[\"accuracy\"])\n",
    "\n",
    "    model.fit(x=X_train, y=y_train, batch_size=batch_size, epochs=epochs, validation_split=0.15,\n",
    "                    verbose=2, callbacks=[scheduler, tensorboard])\n",
    "\n",
    "def evaluate():\n",
    "    global model\n",
    "\n",
    "    pred = model.predict(X_test)\n",
    "    pred = np.argmax(pred, axis=1)\n",
    "\n",
    "    print(accuracy_score(pred,y_test))\n",
    "    # Heat Map\n",
    "    array = confusion_matrix(y_test, pred)\n",
    "    cm = pd.DataFrame(array, index = range(10), columns = range(10))\n",
    "    plt.figure(figsize=(20,20))\n",
    "    sns.heatmap(cm, annot=True)\n",
    "    plt.show()\n",
    "\n",
    "def save_model():\n",
    "    global model\n",
    "\n",
    "    model_json = model.to_json()\n",
    "    with open('model_3D.json', 'w') as f:\n",
    "        f.write(model_json)\n",
    "\n",
    "    model.save_weights('model_3D.h5')\n",
    "\n",
    "    print('Model Saved.')\n",
    "\n",
    "def load_model():\n",
    "    f = open('model_3D.json', 'r')\n",
    "    model_json = f.read()\n",
    "    f.close()\n",
    "\n",
    "    loaded_model = model_from_json(model_json)\n",
    "    loaded_model.load_weights('model_3D.h5')\n",
    "\n",
    "    print(\"Model Loaded.\")\n",
    "    return loaded_model\n",
    "\n",
    "if __name__ == '__main__':\n",
    "\n",
    "    optimizer = RMSprop(lr=0.001, rho=0.9, epsilon=1e-08, decay=0.0)\n",
    "    scheduler = ReduceLROnPlateau(monitor='val_acc', patience=3, verbose=1, factor=0.5, min_lr=1e-5)\n",
    "\n",
    "    model = CNN((16,16,16,3), 10)\n",
    "\n",
    "    train(optimizer, scheduler)\n",
    "    evaluate()\n",
    "    save_model()"
   ]
  },
  {
   "cell_type": "code",
   "execution_count": null,
   "metadata": {},
   "outputs": [],
   "source": []
  }
 ],
 "metadata": {
  "kernelspec": {
   "display_name": "Python 3",
   "language": "python",
   "name": "python3"
  },
  "language_info": {
   "codemirror_mode": {
    "name": "ipython",
    "version": 3
   },
   "file_extension": ".py",
   "mimetype": "text/x-python",
   "name": "python",
   "nbconvert_exporter": "python",
   "pygments_lexer": "ipython3",
   "version": "3.6.6"
  }
 },
 "nbformat": 4,
 "nbformat_minor": 2
}
